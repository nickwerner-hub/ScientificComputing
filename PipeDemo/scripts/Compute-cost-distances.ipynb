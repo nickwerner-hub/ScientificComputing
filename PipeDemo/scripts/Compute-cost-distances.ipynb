{
 "cells": [
  {
   "cell_type": "markdown",
   "metadata": {},
   "source": [
    "# Compute cost distance surfaces\n",
    "> This lesson serves as an example showing the utility of the NumPy package in spatial analysis. Here, we use Numpy mostly to handle our data so that another powerful package -- SciKit-Image -- can access it and do some speedy cost distance analysis. However, this lesson does illustrate how both vectors and rasters can be converted to numpy arrays, the versaility of the numpy package for wrangling and visualizing multidimensional data, and how these numpy arrays can be converted back to familiar formats. \n",
    "\n",
    "This script iterates through each point feature in a point feature layer and computes the cost distance away from that point using the supplied cost surface raster. Each cost surface is then added to a stack of cost distance and cost path rasters, in the form of a NumPy raster stack. With this stack we can extract single cost distance surfaces or reduce the stack to a single stack, e.g. take the minimum value across all layers, and visualize that. "
   ]
  },
  {
   "cell_type": "code",
   "execution_count": null,
   "metadata": {},
   "outputs": [],
   "source": [
    "#Imports\n",
    "import arcpy\n",
    "import numpy as np      \n",
    "\n",
    "#For minimum cost path analysis\n",
    "from skimage import graph  \n",
    "\n",
    "#For 3D plotting\n",
    "from matplotlib import pyplot as plt\n",
    "from matplotlib import cm                   # colormaps for figures\n",
    "from mpl_toolkits.mplot3d import Axes3D     # to construct 3d figures"
   ]
  },
  {
   "cell_type": "markdown",
   "metadata": {},
   "source": [
    "#### 1. Convert the cost surface to a numpy array\n",
    "* https://pro.arcgis.com/en/pro-app/arcpy/functions/rastertonumpyarray-function.htm\n",
    "* https://matplotlib.org/3.1.1/api/_as_gen/matplotlib.pyplot.imshow.html"
   ]
  },
  {
   "cell_type": "code",
   "execution_count": null,
   "metadata": {},
   "outputs": [],
   "source": [
    "#Read the MIT cost surface into a numpy array\n",
    "MIT_cost_surface = '../data/MIT_Surface_Subset/MIT_CostSurface_500m.img'\n",
    "arrCost = arcpy.RasterToNumPyArray(\n",
    "    in_raster=MIT_cost_surface,\n",
    "    nodata_to_value=-1)\n",
    "arrCost.shape"
   ]
  },
  {
   "cell_type": "code",
   "execution_count": null,
   "metadata": {},
   "outputs": [],
   "source": [
    "#Show the numpy array\n",
    "plt.imshow(arrCost);"
   ]
  },
  {
   "cell_type": "markdown",
   "metadata": {},
   "source": [
    "#### 2. Convert point feature class to a numpy _structured_ array\n",
    "* https://pro.arcgis.com/en/pro-app/arcpy/data-access/featureclasstonumpyarray.htm"
   ]
  },
  {
   "cell_type": "code",
   "execution_count": null,
   "metadata": {},
   "outputs": [],
   "source": [
    "#Convert the features to a numpy structured array\n",
    "arrBiogas = arcpy.da.FeatureClassToNumPyArray(\n",
    "    in_table='../data/DuplinSites_Prj.shp',\n",
    "    field_names=['FID','SHAPE@X','SHAPE@Y','Cost_USDmi']\n",
    ")"
   ]
  },
  {
   "cell_type": "code",
   "execution_count": null,
   "metadata": {},
   "outputs": [],
   "source": [
    "#Show the first two rows of data\n",
    "arrBiogas[:2]"
   ]
  },
  {
   "cell_type": "code",
   "execution_count": null,
   "metadata": {},
   "outputs": [],
   "source": [
    "#Show the first 4 rows a particular column of data\n",
    "arrBiogas['Cost_USDmi'][:4]"
   ]
  },
  {
   "cell_type": "markdown",
   "metadata": {},
   "source": [
    "#### 3. Translate projected biogas locations into image coordinates\n",
    "Since numpy and the scikit-image processes don't do geospaital projections, we have to translate our earth-bound coordinates to image coordinates, i.e., those referenced to the upper-left (Xmin,Ymax) corner of the cost surface. We use the affine transormation to do this, ignoring any distortion..."
   ]
  },
  {
   "cell_type": "code",
   "execution_count": null,
   "metadata": {},
   "outputs": [],
   "source": [
    "#Convert projected coordinates to image coordinates using affine transformation\n",
    "## Get the description of the cost surface raster\n",
    "imgDescribe = arcpy.da.Describe(MIT_cost_surface)\n",
    "\n",
    "## Get the extent and its compontents\n",
    "imgExtent = imgDescribe['extent']\n",
    "xMin = imgExtent.XMin\n",
    "yMin = imgExtent.YMin\n",
    "xMax = imgExtent.XMax\n",
    "yMax = imgExtent.YMax\n",
    "\n",
    "## Get the cell size of the image\n",
    "cellX = imgDescribe['meanCellHeight']\n",
    "cellY = imgDescribe['meanCellWidth']\n",
    "\n",
    "## Compute X- and Y-offsets for each point, truncating to the nearest integer\n",
    "xOffsets = np.trunc((arrBiogas['SHAPE@X'] - xMin)/cellX)\n",
    "yOffsets = np.trunc((arrBiogas['SHAPE@Y'] - yMax)/cellY)"
   ]
  },
  {
   "cell_type": "code",
   "execution_count": null,
   "metadata": {},
   "outputs": [],
   "source": [
    "#Stack the X and Y offsets; check values\n",
    "arrXY = np.stack((xOffsets,yOffsets),axis=1)\n",
    "arrXY[0],xOffsets[0],yOffsets[0]"
   ]
  },
  {
   "cell_type": "markdown",
   "metadata": {},
   "source": [
    "#### 4a. Proof of concept: Compute cost distance and cost back link for one point\n",
    "Before we do _all_ the points, let's do one and see how it goes. "
   ]
  },
  {
   "cell_type": "code",
   "execution_count": null,
   "metadata": {},
   "outputs": [],
   "source": [
    "#Compute the cost distance and path for the first point\n",
    "##Get the coordinates (as offsets)\n",
    "x,y = arrXY[0]\n",
    "\n",
    "##Compute the minimum cost graph from the point\n",
    "mcp_graph = graph.MCP_Geometric(arrCost)\n",
    "\n",
    "##Compute the cost distances awayt from the source coordinates\n",
    "arrCostDist, arrBackLink = mcp_graph.find_costs(starts=[(x,y)])"
   ]
  },
  {
   "cell_type": "markdown",
   "metadata": {},
   "source": [
    "This output should be the same size as our cost raster..."
   ]
  },
  {
   "cell_type": "code",
   "execution_count": null,
   "metadata": {},
   "outputs": [],
   "source": [
    "#Reveal the size of the cost distance array output\n",
    "arrCostDist.shape"
   ]
  },
  {
   "cell_type": "markdown",
   "metadata": {},
   "source": [
    "Show the arrays as images using the matplotlib `imshow` command."
   ]
  },
  {
   "cell_type": "code",
   "execution_count": null,
   "metadata": {},
   "outputs": [],
   "source": [
    "#Show the resulting costs surface\n",
    "plt.imshow(arrCostDist) #Draw the data\n",
    "plt.colorbar();         #Add a color bar legend"
   ]
  },
  {
   "cell_type": "code",
   "execution_count": null,
   "metadata": {},
   "outputs": [],
   "source": [
    "#Show the resulting cost backlink\n",
    "plt.imshow(arrBackLink,cmap='Set1');"
   ]
  },
  {
   "cell_type": "markdown",
   "metadata": {},
   "source": [
    "A quick demo showing that we can plot these things in 3d..."
   ]
  },
  {
   "cell_type": "code",
   "execution_count": null,
   "metadata": {},
   "outputs": [],
   "source": [
    "\n",
    "#Create a meshgrid that is the size of the cost distance array: this is the axis\n",
    "y = np.arange(0,arrCostDist.shape[0])\n",
    "x = np.arange(0,arrCostDist.shape[1])\n",
    "X,Y  = np.meshgrid(x,y)\n",
    "\n",
    "#Create the figure\n",
    "fig = plt.figure(figsize=(20,5))            #Create the figure canvas\n",
    "ax = fig.add_subplot(111, projection='3d')   #Add 3d plot...\n",
    "\n",
    "#Plot contours\n",
    "#ax.contour3D(X,Y,arrCostDist,100,alpha=0.2,cmap='ocean');\n",
    "\n",
    "#Or, plot a surface\n",
    "ax.plot_surface(X,Y,arrCostDist,\n",
    "                linewidth=0,\n",
    "                alpha=0.6);"
   ]
  },
  {
   "cell_type": "markdown",
   "metadata": {},
   "source": [
    "#### 4b. Now that we did one point successfully, iterate through all 464 biogas sources\n",
    "We'll collect each source's cost distance and backlink rasters into a list, and then convert these list to a stack of layers. "
   ]
  },
  {
   "cell_type": "code",
   "execution_count": null,
   "metadata": {},
   "outputs": [],
   "source": [
    "#Iteration through all points, compute the cost distance and backlink surfaces and add to a stack of surfaces\n",
    "##Initialize the lists holding the two outputs\n",
    "costDistance_surfaces = []\n",
    "costBacklink_surfaces = []\n",
    "\n",
    "##Iterate through each biogas source\n",
    "for x,y in arrXY:\n",
    "    #Show status\n",
    "    print('.',end='')\n",
    "    \n",
    "    #Compute the minimum cost graph from the point\n",
    "    mcp_graph = graph.MCP_Geometric(arrCost)\n",
    "\n",
    "    #Compute the cost distances awayt from the source coordinates\n",
    "    arrCostDist, arrBackLink = mcp_graph.find_costs(starts=[(x,y)])\n",
    "    \n",
    "    #Add to the list of arrays\n",
    "    costDistance_surfaces.append(arrCostDist)\n",
    "    costBacklink_surfaces.append(arrBackLink)\n",
    "\n",
    "##Status\n",
    "print(\"Completed!\")\n",
    "    \n",
    "##Create stacked arrays\n",
    "arrCostdistances = np.stack(costDistance_surfaces)\n",
    "arrBacklinks = np.stack(costBacklink_surfaces)"
   ]
  },
  {
   "cell_type": "markdown",
   "metadata": {},
   "source": [
    "We should now have a stack of 464 rasters, each 190 rows x 223 columns..."
   ]
  },
  {
   "cell_type": "code",
   "execution_count": null,
   "metadata": {},
   "outputs": [],
   "source": [
    "#Display info about the stacks\n",
    "arrCostdistances.shape"
   ]
  },
  {
   "cell_type": "markdown",
   "metadata": {},
   "source": [
    "Now, we can extract a single layer from the stack and plot it (for example)..."
   ]
  },
  {
   "cell_type": "code",
   "execution_count": null,
   "metadata": {},
   "outputs": [],
   "source": [
    "#Extract a single layer from the stack, we'll get #130\n",
    "layer130 = arrCostdistances[130,:,:]\n",
    "\n",
    "#Extract the point coordinates for this layer\n",
    "theX,theY = arrXY[130]\n",
    "\n",
    "#Plot the surface\n",
    "ax = plt.imshow(layer130)\n",
    "plt.colorbar();\n",
    "#.scatter(theX,theY)"
   ]
  },
  {
   "cell_type": "code",
   "execution_count": null,
   "metadata": {},
   "outputs": [],
   "source": [
    "#Now we'll plot that layer\n",
    "fig = plt.figure(figsize=(20,5))            #Create the figure canvas\n",
    "ax = fig.add_subplot(111, projection='3d')   #Add 3d plot...\n",
    "\n",
    "#plot a surface\n",
    "ax.plot_surface(X,Y,arrCostdistances[point_number,:,:],\n",
    "                linewidth=0,\n",
    "                alpha=0.6);"
   ]
  },
  {
   "cell_type": "code",
   "execution_count": null,
   "metadata": {},
   "outputs": [],
   "source": [
    "#Compute the average cost distance for every pixel\n",
    "minCostDistanceSurface = np.min(arrCostdistances,axis=0)\n",
    "\n",
    "#Set all values above a cost threshold to NoData\n",
    "minCostDistanceSurface[minCostDistanceSurface>4000]=np.NaN"
   ]
  },
  {
   "cell_type": "code",
   "execution_count": null,
   "metadata": {},
   "outputs": [],
   "source": [
    "#Plot the mean, tilting and rotating the axis and setting the z range\n",
    "fig = plt.figure(figsize=(20,15))            #Create the figure canvas\n",
    "ax = fig.add_subplot(111, projection='3d')   #Add 3d plot...\n",
    "ax.set_zlim(0, 8000)                        #Set the cost (z) range on the plot\n",
    "ax.view_init(elev=30, azim=-20)              #Set the perspective\n",
    "\n",
    "#Plot the surface\n",
    "ax.plot_surface(X,Y,minCostDistanceSurface,\n",
    "                linewidth=10,\n",
    "                alpha=0.6);"
   ]
  },
  {
   "cell_type": "markdown",
   "metadata": {},
   "source": [
    "#### 5. Saving the rasters\n",
    "Here, we'll save the raster stack as a numpy export file and also convert the raster stack and the minimum raster back into a GIS ready (TIFF) file format. \n",
    "* Save a file to a binary NumPy object: https://docs.scipy.org/doc/numpy/reference/generated/numpy.save.html\n",
    "* ArcPy's numpy to raster: https://pro.arcgis.com/en/pro-app/arcpy/functions/numpyarraytoraster-function.htm\n",
    " * BUG: Only exports 1st layer: https://community.esri.com/thread/237873-arcpy-numpyarraytoraster-not-working-properly-python\n",
    " * Alternative: use `gdal`..."
   ]
  },
  {
   "cell_type": "code",
   "execution_count": null,
   "metadata": {},
   "outputs": [],
   "source": [
    "#Save the cost distance and backlink stacks to binary numpy files that can be re-imported later\n",
    "np.save(file='../data/costdistances.npy',arr=arrCostdistances)\n",
    "np.save(file='../data/costbacklinks.npy',arr=arrBacklinks)"
   ]
  },
  {
   "cell_type": "markdown",
   "metadata": {},
   "source": [
    "* To write the surfaces to a GIS file format (e.g. GeoTIFF), we need to first create an empty tiff object and then fill it with our data. "
   ]
  },
  {
   "cell_type": "code",
   "execution_count": null,
   "metadata": {},
   "outputs": [],
   "source": [
    "#Convert the surface back to a raster, using values we extracted from the original cost surface\n",
    "outRaster = arcpy.NumPyArrayToRaster(\n",
    "    in_array=arrCostdistances,\n",
    "    lower_left_corner = arcpy.Point(xMin,yMin),\n",
    "    x_cell_size = cellX,\n",
    "    y_cell_size = cellY\n",
    ")"
   ]
  },
  {
   "cell_type": "code",
   "execution_count": null,
   "metadata": {},
   "outputs": [],
   "source": [
    "#Save the raster\n",
    "outRaster.save('../data/CostDistanceStack.tif')"
   ]
  },
  {
   "cell_type": "markdown",
   "metadata": {},
   "source": [
    "If you open that raster in ArcPro, you'll see just one band created because of the bug. However, if we know GDAL, we can use that to do the same thing -- successfully!"
   ]
  },
  {
   "cell_type": "code",
   "execution_count": null,
   "metadata": {},
   "outputs": [],
   "source": [
    "#Create the output TIF object and set its properties\n",
    "import gdal\n",
    "\n",
    "#Get projection info from the input raster\n",
    "ds = gdal.Open(MIT_cost_surface)\n",
    "ds_prj = ds.GetProjection()\n",
    "ds_transform = ds.GetGeoTransform()\n",
    "\n",
    "#Determine the size of the output TIFF\n",
    "bands, height,width = arrCostdistances.shape\n",
    "drv = gdal.GetDriverByName(\"GTiff\")\n",
    "dsOut = drv.Create('../data/cost_surface_stack.tif',width,height,bands,gdal.GDT_Float32)\n",
    "dsOut.SetGeoTransform (ds_transform)  #Set the pixel size, offset, and warp\n",
    "dsOut.SetProjection(ds_prj)           #Define the coordinate system\n",
    "\n",
    "#Write to the data source object\n",
    "for i in range(bands):\n",
    "    dsOut.GetRasterBand(i+1).WriteArray(arrCostdistances[i,:,:]) #Write the data to the 1st band\n",
    "    dsOut.GetRasterBand(i+1).SetNoDataValue(-9999.9)             #Assign NoData values\n",
    "dsOut.FlushCache()"
   ]
  }
 ],
 "metadata": {
  "kernelspec": {
   "display_name": "Python 3",
   "language": "python",
   "name": "python3"
  },
  "language_info": {
   "codemirror_mode": {
    "name": "ipython",
    "version": 3
   },
   "file_extension": ".py",
   "mimetype": "text/x-python",
   "name": "python",
   "nbconvert_exporter": "python",
   "pygments_lexer": "ipython3",
   "version": "3.6.8"
  }
 },
 "nbformat": 4,
 "nbformat_minor": 2
}
